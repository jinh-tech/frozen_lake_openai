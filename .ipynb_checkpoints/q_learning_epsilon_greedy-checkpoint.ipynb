{
 "cells": [
  {
   "cell_type": "code",
   "execution_count": 1,
   "metadata": {
    "collapsed": true
   },
   "outputs": [],
   "source": [
    "import gym\n",
    "import numpy as np\n",
    "import matplotlib.pyplot as plt"
   ]
  },
  {
   "cell_type": "code",
   "execution_count": 2,
   "metadata": {},
   "outputs": [
    {
     "name": "stderr",
     "output_type": "stream",
     "text": [
      "[2017-06-14 15:59:35,271] Making new env: FrozenLake-v0\n"
     ]
    }
   ],
   "source": [
    "env = gym.make(\"FrozenLake-v0\")"
   ]
  },
  {
   "cell_type": "code",
   "execution_count": 51,
   "metadata": {},
   "outputs": [],
   "source": [
    "q = np.random.uniform(low=0.0,high=0.1,size=(env.observation_space.n,env.action_space.n))\n",
    "learning_rate = 0.8\n",
    "discount = 0.95\n",
    "epsilon = 0.1\n",
    "num_episodes = 10000\n",
    "reward_array = []"
   ]
  },
  {
   "cell_type": "code",
   "execution_count": 52,
   "metadata": {},
   "outputs": [],
   "source": [
    "for i in range(0,num_episodes):\n",
    "    state = env.reset()\n",
    "    for j in range(0,10000):\n",
    "        if(np.random.uniform()>epsilon):\n",
    "            action = np.argmax(q[state,:])\n",
    "        else:\n",
    "            action = np.random.randint(env.action_space.n)\n",
    "        new_state,reward,done,_ = env.step(action)\n",
    "        q[state,action] = q[state,action] + learning_rate*(reward + discount*np.max(q[new_state,:]) - q[state,action])\n",
    "        state = new_state\n",
    "        if done:\n",
    "            reward_array.append(reward)\n",
    "            break            "
   ]
  },
  {
   "cell_type": "code",
   "execution_count": 53,
   "metadata": {},
   "outputs": [
    {
     "data": {
      "image/png": "[encoded data removed]",
      "text/plain": [
       "<matplotlib.figure.Figure at 0x7f3020c57a90>"
      ]
     },
     "metadata": {},
     "output_type": "display_data"
    }
   ],
   "source": [
    "for i in range(1,len(reward_array)):\n",
    "    reward_array[i] += reward_array[i-1] \n",
    "for i in range(1,len(reward_array)):\n",
    "    reward_array[i] /= (i+1)\n",
    "plt.plot(reward_array)\n",
    "plt.show()"
   ]
  }
 ],
 "metadata": {
  "anaconda-cloud": {},
  "kernelspec": {
   "display_name": "Python [default]",
   "language": "python",
   "name": "python2"
  },
  "language_info": {
   "codemirror_mode": {
    "name": "ipython",
    "version": 2
   },
   "file_extension": ".py",
   "mimetype": "text/x-python",
   "name": "python",
   "nbconvert_exporter": "python",
   "pygments_lexer": "ipython2",
   "version": "2.7.12"
  }
 },
 "nbformat": 4,
 "nbformat_minor": 2
}
